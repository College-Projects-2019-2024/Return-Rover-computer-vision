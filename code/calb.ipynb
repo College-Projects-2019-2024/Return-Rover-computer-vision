{
 "cells": [
  {
   "cell_type": "code",
   "execution_count": 1,
   "metadata": {},
   "outputs": [],
   "source": [
    "import cv2\n",
    "import numpy as np\n",
    "import matplotlib.image as mpimg\n",
    "import matplotlib.pyplot as plt\n",
    "import glob as glob\n",
    "import scipy.misc\n"
   ]
  },
  {
   "cell_type": "code",
   "execution_count": 2,
   "metadata": {},
   "outputs": [],
   "source": [
    "example_grid = \"../calibration_images/example_grid1.jpg\"\n",
    "\n",
    "grid_img = cv2.imread(example_grid)\n",
    "\n",
    "gray = cv2.cvtColor(grid_img,cv2.COLOR_BGR2GRAY)\n",
    "\n",
    "blurred = cv2.GaussianBlur(gray, (7,7), 0)\n",
    "\n",
    "edges = cv2.Canny(blurred, 30, 50)\n",
    "\n",
    "\n",
    "for j in range (edges.shape[0]):\n",
    "    for i in range (edges.shape[1]):\n",
    "        if j <90:\n",
    "            edges[j,i]=0\n",
    "\n",
    "lines = cv2.HoughLinesP(edges, 1, np.pi/180, 10, minLineLength=100, maxLineGap=50)\n",
    "\n",
    "gg = np.zeros_like(edges, dtype=None, shape=None)\n",
    "\n",
    "outputlines =np.empty_like (lines)\n",
    "\n",
    "output = []\n",
    "i = 0\n",
    "\n",
    "for line in lines:\n",
    "    if line[0][0] == -1:\n",
    "            continue \n",
    "    for sline in lines:\n",
    "        if sline[0][0] == -1:\n",
    "            continue \n",
    "        if (True):\n",
    "            c = 0\n",
    "            for k in range (4):\n",
    "                if ( abs (line[0][k] - sline[0][k])  < 15) :\n",
    "                    c+=1 \n",
    "            e=0\n",
    "            for k in range (4):\n",
    "                if ( abs (line[0][k] - sline[0][k])  ==0) :\n",
    "                    e+=1 \n",
    "\n",
    "            if (c==4 and e!=4 ):\n",
    "                line[0][0] = -1\n",
    "fourlines = []\n",
    "\n",
    "for line in lines:\n",
    "    if (line[0][0]!=-1):\n",
    "        fourlines.append(line[0])\n",
    "\n",
    "out = []\n",
    "\n",
    "for i in range (4):\n",
    "\n",
    "    gg = np.zeros_like(edges, dtype=None, shape=None)\n",
    "\n",
    "    x1, y1, x2, y2 = fourlines[i]\n",
    "\n",
    "    cv2.line(gg, (x1, y1), (x2, y2), 50, 1)\n",
    "\n",
    "    out.append(gg)\n",
    "\n"
   ]
  },
  {
   "cell_type": "code",
   "execution_count": 3,
   "metadata": {},
   "outputs": [],
   "source": [
    "def neb (point):\n",
    "    x= point[0]\n",
    "    y = point[1]\n",
    "    outnebs = np.ndarray(shape=(0,2))\n",
    "    for j in range(-1,2):\n",
    "        for i in range(-1,2):\n",
    "            outnebs = np.append(outnebs, np.array([[x+j,x+i]]), axis=0)\n",
    "    return outnebs"
   ]
  },
  {
   "cell_type": "code",
   "execution_count": 4,
   "metadata": {},
   "outputs": [
    {
     "name": "stdout",
     "output_type": "stream",
     "text": [
      "196 97\n",
      "197 97\n",
      "107 99\n",
      "107 99\n",
      "108 99\n",
      "108 99\n",
      "5 142\n",
      "5 142\n",
      "5 142\n",
      "6 142\n",
      "6 142\n",
      "6 142\n",
      "301 142\n",
      "302 142\n"
     ]
    },
    {
     "data": {
      "text/plain": [
       "<matplotlib.image.AxesImage at 0x7f93be7e9480>"
      ]
     },
     "execution_count": 4,
     "metadata": {},
     "output_type": "execute_result"
    },
    {
     "data": {
      "image/png": "[encoded data removed]",
      "text/plain": [
       "<Figure size 432x288 with 1 Axes>"
      ]
     },
     "metadata": {
      "needs_background": "light"
     },
     "output_type": "display_data"
    }
   ],
   "source": [
    "points = np.ndarray(shape=(0,2))\n",
    "\n",
    "for j in range (out[0].shape[0]):\n",
    "    for i in range (out[0].shape[1]):\n",
    "        for k in range (1,4):\n",
    "            out[0][j][i] += out[k][j][i]\n",
    "\n",
    "            if (out[0][j][i]>80):\n",
    "                print(i,j)\n",
    "                ##if ( not (neb([i,j]).any() in points )):\n",
    "                  ##      points = np.append(points, ([[i,j]]), axis=0)\n",
    "\n",
    "\n",
    "out[0][out[0] <=50] = 0\n",
    "\n",
    "plt.imshow(out[0],cmap='gray')"
   ]
  },
  {
   "cell_type": "code",
   "execution_count": null,
   "metadata": {},
   "outputs": [],
   "source": []
  }
 ],
 "metadata": {
  "kernelspec": {
   "display_name": "Python 3.10.8 ('myenv')",
   "language": "python",
   "name": "python3"
  },
  "language_info": {
   "codemirror_mode": {
    "name": "ipython",
    "version": 3
   },
   "file_extension": ".py",
   "mimetype": "text/x-python",
   "name": "python",
   "nbconvert_exporter": "python",
   "pygments_lexer": "ipython3",
   "version": "3.10.8"
  },
  "orig_nbformat": 4,
  "vscode": {
   "interpreter": {
    "hash": "eaf8792508db2f8664555d48dfdc00cfe1fa53aeb0c044558bea34b04829f6ef"
   }
  }
 },
 "nbformat": 4,
 "nbformat_minor": 2
}
